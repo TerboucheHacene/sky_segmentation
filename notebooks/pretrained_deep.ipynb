{
 "cells": [
  {
   "cell_type": "code",
   "execution_count": null,
   "metadata": {},
   "outputs": [],
   "source": [
    "from mit_semseg.utils import colorEncode\n",
    "from sky_segmentation.modules.models import (\n",
    "    PretrainedSegmentationModule, \n",
    "    SkyPretrainedSegmentationModule, \n",
    "    get_inference_transform\n",
    ")\n",
    "import torch\n",
    "import PIL\n",
    "import numpy as np\n",
    "import csv \n",
    "import scipy.io\n",
    "import PIL.Image"
   ]
  },
  {
   "attachments": {},
   "cell_type": "markdown",
   "metadata": {},
   "source": [
    "## Helpers Functions"
   ]
  },
  {
   "cell_type": "code",
   "execution_count": null,
   "metadata": {},
   "outputs": [],
   "source": [
    "colors = scipy.io.loadmat('../artifacts/data/metadata/color150.mat')['colors']\n",
    "names = {}\n",
    "with open('../artifacts/data/metadata/object150_info.csv') as f:\n",
    "    reader = csv.reader(f)\n",
    "    next(reader)\n",
    "    for row in reader:\n",
    "        names[int(row[0])] = row[5].split(\";\")[0]\n",
    "\n",
    "def visualize_result(img, pred, index=None):\n",
    "    # filter prediction class if requested\n",
    "    if index is not None:\n",
    "        pred = pred.copy()\n",
    "        pred[pred != index] = -1\n",
    "        print(f'{names[index+1]}:')\n",
    "        \n",
    "    # colorize prediction\n",
    "    pred_color = colorEncode(pred, colors).astype(np.uint8)\n",
    "\n",
    "    # aggregate images and save\n",
    "    im_vis = np.concatenate((img, pred_color), axis=1)\n",
    "    display(PIL.Image.fromarray(im_vis))\n",
    "\n",
    "# load transforms\n",
    "transforms = get_inference_transform()"
   ]
  },
  {
   "attachments": {},
   "cell_type": "markdown",
   "metadata": {},
   "source": [
    "## Sky Index"
   ]
  },
  {
   "cell_type": "code",
   "execution_count": null,
   "metadata": {},
   "outputs": [],
   "source": [
    "mat_filename = \"../artifacts/data/metadata/objectName150.mat\"\n",
    "mat = scipy.io.loadmat(mat_filename, simplify_cells=True)\n",
    "list_of_object = mat[\"objectNames\"].tolist()\n",
    "id2label = {i: label for i, label in enumerate(list_of_object)}\n",
    "label2id = {label: i for i, label in enumerate(list_of_object)}\n",
    "num_labels = len(id2label)\n",
    "\n",
    "print(f\"Number of labels: {num_labels}\")\n",
    "print(\"Sky index:\", label2id[\"sky\"])"
   ]
  },
  {
   "attachments": {},
   "cell_type": "markdown",
   "metadata": {},
   "source": [
    "## Load & Preprocess Image"
   ]
  },
  {
   "cell_type": "code",
   "execution_count": null,
   "metadata": {},
   "outputs": [],
   "source": [
    "path = \"../artifacts/data/ADEChallengeData2016/images/training/ADE_train_00000983.jpg\"\n",
    "segmentation_path = \"../artifacts/data/ADEChallengeData2016/annotations/training/ADE_train_00000983.png\"\n",
    "segmentation_mask = PIL.Image.open(segmentation_path)\n",
    "\n",
    "pil_image = PIL.Image.open(path).convert('RGB')\n",
    "img_original = np.array(pil_image)\n",
    "img_data = transforms(pil_image)\n",
    "singleton_batch = {'img_data': img_data[None]}\n",
    "output_size = img_data.shape[1:]"
   ]
  },
  {
   "cell_type": "code",
   "execution_count": null,
   "metadata": {},
   "outputs": [],
   "source": [
    "pil_image.size"
   ]
  },
  {
   "attachments": {},
   "cell_type": "markdown",
   "metadata": {},
   "source": [
    "## Load Pretrained Segmentation Model"
   ]
  },
  {
   "cell_type": "code",
   "execution_count": null,
   "metadata": {},
   "outputs": [],
   "source": [
    "encoder_weights_path = '../artifacts/models/ckpt/ade20k-resnet50dilated-ppm_deepsup/encoder_epoch_20.pth'\n",
    "decoder_weights_path = '../artifacts/models/ckpt/ade20k-resnet50dilated-ppm_deepsup/decoder_epoch_20.pth'\n",
    "\n",
    "# load the pretrained segmentation module\n",
    "segmentation_module = PretrainedSegmentationModule(encoder_weights_path, decoder_weights_path)"
   ]
  },
  {
   "attachments": {},
   "cell_type": "markdown",
   "metadata": {},
   "source": [
    "## Run Inference"
   ]
  },
  {
   "cell_type": "code",
   "execution_count": null,
   "metadata": {},
   "outputs": [],
   "source": [
    "# Run the segmentation at the highest resolution.\n",
    "with torch.no_grad():\n",
    "    pred = segmentation_module(singleton_batch, output_size=output_size)\n",
    "\n",
    "pred = pred.cpu()[0].numpy()"
   ]
  },
  {
   "attachments": {},
   "cell_type": "markdown",
   "metadata": {},
   "source": [
    "## Visualise Results"
   ]
  },
  {
   "cell_type": "code",
   "execution_count": null,
   "metadata": {},
   "outputs": [],
   "source": [
    "visualize_result(img_original, pred)"
   ]
  },
  {
   "cell_type": "code",
   "execution_count": null,
   "metadata": {},
   "outputs": [],
   "source": [
    "# Top classes in answer\n",
    "predicted_classes = np.bincount(pred.flatten()).argsort()[::-1]\n",
    "for c in predicted_classes[:3]:\n",
    "    visualize_result(img_original, pred, c)"
   ]
  },
  {
   "cell_type": "code",
   "execution_count": null,
   "metadata": {},
   "outputs": [],
   "source": [
    "predicted_classes[:3]"
   ]
  },
  {
   "cell_type": "code",
   "execution_count": null,
   "metadata": {},
   "outputs": [],
   "source": [
    "visualize_result(img_original, np.array(segmentation_mask))"
   ]
  },
  {
   "cell_type": "code",
   "execution_count": null,
   "metadata": {},
   "outputs": [],
   "source": [
    "np.unique(np_segmentation_mask)"
   ]
  },
  {
   "cell_type": "code",
   "execution_count": null,
   "metadata": {},
   "outputs": [],
   "source": [
    "np.unique(pred)"
   ]
  },
  {
   "cell_type": "code",
   "execution_count": null,
   "metadata": {},
   "outputs": [],
   "source": [
    "np_segmentation_mask = np.array(segmentation_mask)\n",
    "predicted_classes = np.bincount(np_segmentation_mask.flatten()).argsort()[::-1]\n",
    "for c in predicted_classes[:3]:\n",
    "    visualize_result(img_original, np_segmentation_mask, c)"
   ]
  },
  {
   "attachments": {},
   "cell_type": "markdown",
   "metadata": {},
   "source": [
    "## Load Sky Segmentation Model"
   ]
  },
  {
   "cell_type": "code",
   "execution_count": null,
   "metadata": {},
   "outputs": [],
   "source": [
    "# load the pretrained sky segmentation module\n",
    "sky_segmentation_module = SkyPretrainedSegmentationModule(encoder_weights_path, decoder_weights_path)"
   ]
  },
  {
   "attachments": {},
   "cell_type": "markdown",
   "metadata": {},
   "source": [
    "## Run Inference"
   ]
  },
  {
   "cell_type": "code",
   "execution_count": null,
   "metadata": {},
   "outputs": [],
   "source": [
    "# Run the segmentation at the highest resolution.\n",
    "with torch.no_grad():\n",
    "    pred = sky_segmentation_module(singleton_batch, image_size=output_size)\n",
    "pred = pred.cpu().numpy().squeeze()"
   ]
  },
  {
   "cell_type": "code",
   "execution_count": null,
   "metadata": {},
   "outputs": [],
   "source": [
    "# convert 1 mask to 2 \n",
    "pred = np.where(pred == 1, 2, pred)\n",
    "# convert 0 mask to -1\n",
    "pred = np.where(pred == 0, -1, pred)"
   ]
  },
  {
   "cell_type": "code",
   "execution_count": null,
   "metadata": {},
   "outputs": [],
   "source": [
    "visualize_result(img_original, pred)"
   ]
  },
  {
   "cell_type": "code",
   "execution_count": null,
   "metadata": {},
   "outputs": [],
   "source": []
  }
 ],
 "metadata": {
  "kernelspec": {
   "display_name": "sky-segmentation-b-OPkXLq-py3.8",
   "language": "python",
   "name": "python3"
  },
  "language_info": {
   "codemirror_mode": {
    "name": "ipython",
    "version": 3
   },
   "file_extension": ".py",
   "mimetype": "text/x-python",
   "name": "python",
   "nbconvert_exporter": "python",
   "pygments_lexer": "ipython3",
   "version": "3.8.10 (default, Mar 15 2022, 12:22:08) \n[GCC 9.4.0]"
  },
  "orig_nbformat": 4,
  "vscode": {
   "interpreter": {
    "hash": "5ba359a8d62fc104a5a0f6aee4674e069b699e14f9b76a845a4c68e164258003"
   }
  }
 },
 "nbformat": 4,
 "nbformat_minor": 2
}
